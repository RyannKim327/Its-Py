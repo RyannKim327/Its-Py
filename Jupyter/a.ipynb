{
 "cells": [
  {
   "cell_type": "code",
   "execution_count": 2,
   "metadata": {},
   "outputs": [],
   "source": [
    "# Data\n",
    "students_data = [\n",
    "\t[\"Alice\", [85, 90, 92], [\"Math\", \"English\", \"Science\"]],\n",
    "\t[\"Bob\", [78, 88, 80], [\"Math\", \"English\", \"Science\"]],\n",
    "\t[\"Charlie\", [92, 94, 89], [\"Math\", \"English\", \"Science\"]],\n",
    "\t[\"David\", [80, 85, 88], [\"Math\", \"English\", \"Science\"]],\n",
    "]"
   ]
  },
  {
   "cell_type": "code",
   "execution_count": 3,
   "metadata": {},
   "outputs": [],
   "source": [
    "# Sorting Function\n",
    "def getStudents(arr: list):\n",
    "\n",
    "\t# Traversal\n",
    "\tfor i in arr:\n",
    "\t\tave = 0\n",
    "\t\tfor j in i[1]:\n",
    "\t\t\tave += j\n",
    "\t\tave /= len(i[1])\n",
    "\t\tave *= 100\n",
    "\t\tave //= 1\n",
    "\t\tave /= 100\n",
    "\t\tif(len(i) < 4):\n",
    "\t\t\ti.append(ave)\n",
    "\n",
    "\t# Sort\n",
    "\tfor i in range(len(arr)):\n",
    "\t\tfor j in range(len(arr)):\n",
    "\t\t\tif arr[i][-1] < arr[j][-1]:\n",
    "\t\t\t\tarr[i], arr[j] = arr[j], arr[i]\n",
    "\n",
    "\treturn arr"
   ]
  },
  {
   "cell_type": "code",
   "execution_count": 4,
   "metadata": {},
   "outputs": [
    {
     "data": {
      "text/plain": [
       "[['Bob', [78, 88, 80], ['Math', 'English', 'Science'], 82.0],\n",
       " ['David', [80, 85, 88], ['Math', 'English', 'Science'], 84.33],\n",
       " ['Alice', [85, 90, 92], ['Math', 'English', 'Science'], 89.0],\n",
       " ['Charlie', [92, 94, 89], ['Math', 'English', 'Science'], 91.66]]"
      ]
     },
     "execution_count": 4,
     "metadata": {},
     "output_type": "execute_result"
    }
   ],
   "source": [
    "# Sorted by average\n",
    "students_data = getStudents(students_data)\n",
    "students_data"
   ]
  },
  {
   "cell_type": "code",
   "execution_count": 5,
   "metadata": {},
   "outputs": [
    {
     "data": {
      "text/plain": [
       "[['Bob', [78, 88, 80], ['Math', 'English', 'Science'], 82.0],\n",
       " ['David', [80, 85, 88], ['Math', 'English', 'Science'], 84.33],\n",
       " ['Alice', [85, 90, 92], ['Math', 'English', 'Science'], 89.0],\n",
       " ['Charlie', [92, 94, 89], ['Math', 'English', 'Science'], 91.66],\n",
       " ['Eva', [95, 91, 88], ['Math', 'English', 'Science']]]"
      ]
     },
     "execution_count": 5,
     "metadata": {},
     "output_type": "execute_result"
    }
   ],
   "source": [
    "# Eva Added\n",
    "students_data.append([\"Eva\", [95, 91, 88], [\"Math\", \"English\", \"Science\"]])\n",
    "students_data"
   ]
  },
  {
   "cell_type": "code",
   "execution_count": 6,
   "metadata": {},
   "outputs": [
    {
     "data": {
      "text/plain": [
       "[['Bob', [78, 88, 80], ['Math', 'English', 'Science'], 82.0],\n",
       " ['David', [80, 85, 88], ['Math', 'English', 'Science'], 84.33],\n",
       " ['Alice', [85, 90, 92], ['Math', 'English', 'Science'], 89.0],\n",
       " ['Eva', [95, 91, 88], ['Math', 'English', 'Science'], 91.33],\n",
       " ['Charlie', [92, 94, 89], ['Math', 'English', 'Science'], 91.66]]"
      ]
     },
     "execution_count": 6,
     "metadata": {},
     "output_type": "execute_result"
    }
   ],
   "source": [
    "# Sort with Eva\n",
    "students_data = getStudents(students_data)\n",
    "students_data"
   ]
  },
  {
   "cell_type": "code",
   "execution_count": 7,
   "metadata": {},
   "outputs": [
    {
     "data": {
      "text/plain": [
       "[['David', [80, 85, 88], ['Math', 'English', 'Science'], 84.33],\n",
       " ['Alice', [85, 90, 92], ['Math', 'English', 'Science'], 89.0],\n",
       " ['Eva', [95, 91, 88], ['Math', 'English', 'Science'], 91.33],\n",
       " ['Charlie', [92, 94, 89], ['Math', 'English', 'Science'], 91.66]]"
      ]
     },
     "execution_count": 7,
     "metadata": {},
     "output_type": "execute_result"
    }
   ],
   "source": [
    "# Removed lowest Average\n",
    "students_data.pop(0)\n",
    "students_data"
   ]
  },
  {
   "cell_type": "code",
   "execution_count": 8,
   "metadata": {},
   "outputs": [
    {
     "data": {
      "text/plain": [
       "[['David', [80, 85, 88], ['Math', 'English', 'Science'], 84.33],\n",
       " ['Alice', [85, 90, 92], ['Math', 'English', 'Science'], 89.0],\n",
       " ['Eva', [95, 91, 88], ['Math', 'English', 'Science'], 91.33],\n",
       " ['Charlie', [92, 94, 89], ['Math', 'English', 'Science'], 91.66]]"
      ]
     },
     "execution_count": 8,
     "metadata": {},
     "output_type": "execute_result"
    }
   ],
   "source": [
    "# Print all english scores\n",
    "english_scores = []\n",
    "for i in range(len(students_data)):\n",
    "\tenglish_scores.append(students_data[i][1][1])\n",
    "students_data"
   ]
  },
  {
   "cell_type": "code",
   "execution_count": 9,
   "metadata": {},
   "outputs": [
    {
     "data": {
      "text/plain": [
       "[['David', [80, 85, 88], ['Math', 'English', 'Science'], 84.33],\n",
       " ['Alice', [85, 90, 92], ['Math', 'English', 'Science'], 89.0],\n",
       " ['Eva', [95, 91, 88], ['Math', 'English', 'Science'], 91.33],\n",
       " ['Charlie', [92, 94, 89], ['Math', 'English', 'Science'], 91.66]]"
      ]
     },
     "execution_count": 9,
     "metadata": {},
     "output_type": "execute_result"
    }
   ],
   "source": [
    "# Sort with Math Scores\n",
    "maths = [i for i in students_data]\n",
    "for i in range(len(maths)):\n",
    "\tfor j in range(len(maths)):\n",
    "\t\tif maths[i][1][0] > maths[j][1][0]:\n",
    "\t\t\tmaths[i], maths[j] = maths[j], maths[i]\n",
    "\n",
    "students_data"
   ]
  },
  {
   "cell_type": "code",
   "execution_count": 10,
   "metadata": {},
   "outputs": [
    {
     "ename": "TypeError",
     "evalue": "'int' object is not subscriptable",
     "output_type": "error",
     "traceback": [
      "\u001b[1;31m---------------------------------------------------------------------------\u001b[0m",
      "\u001b[1;31mTypeError\u001b[0m                                 Traceback (most recent call last)",
      "\u001b[1;32md:\\Programming\\Python\\Python-Programming-Compillation\\Jupyter\\a.ipynb Cell 9\u001b[0m line \u001b[0;36m3\n\u001b[0;32m      <a href='vscode-notebook-cell:/d%3A/Programming/Python/Python-Programming-Compillation/Jupyter/a.ipynb#X24sZmlsZQ%3D%3D?line=0'>1</a>\u001b[0m \u001b[39m# Replace Bob's score\u001b[39;00m\n\u001b[0;32m      <a href='vscode-notebook-cell:/d%3A/Programming/Python/Python-Programming-Compillation/Jupyter/a.ipynb#X24sZmlsZQ%3D%3D?line=1'>2</a>\u001b[0m \u001b[39mfor\u001b[39;00m i \u001b[39min\u001b[39;00m \u001b[39mrange\u001b[39m(\u001b[39mlen\u001b[39m(students_data)):\n\u001b[1;32m----> <a href='vscode-notebook-cell:/d%3A/Programming/Python/Python-Programming-Compillation/Jupyter/a.ipynb#X24sZmlsZQ%3D%3D?line=2'>3</a>\u001b[0m \t\u001b[39mif\u001b[39;00m i[\u001b[39m0\u001b[39;49m] \u001b[39m==\u001b[39m \u001b[39m\"\u001b[39m\u001b[39mBob\u001b[39m\u001b[39m\"\u001b[39m:\n\u001b[0;32m      <a href='vscode-notebook-cell:/d%3A/Programming/Python/Python-Programming-Compillation/Jupyter/a.ipynb#X24sZmlsZQ%3D%3D?line=3'>4</a>\u001b[0m \t\ti[\u001b[39m1\u001b[39m] \u001b[39m=\u001b[39m [\u001b[39m85\u001b[39m, \u001b[39m87\u001b[39m, \u001b[39m90\u001b[39m]\n\u001b[0;32m      <a href='vscode-notebook-cell:/d%3A/Programming/Python/Python-Programming-Compillation/Jupyter/a.ipynb#X24sZmlsZQ%3D%3D?line=4'>5</a>\u001b[0m students_data\n",
      "\u001b[1;31mTypeError\u001b[0m: 'int' object is not subscriptable"
     ]
    }
   ],
   "source": [
    "# Replace Bob's score\n",
    "for i in range(len(students_data)):\n",
    "\tif i[0] == \"Bob\":\n",
    "\t\ti[1] = [85, 87, 90]\n",
    "students_data"
   ]
  }
 ],
 "metadata": {
  "kernelspec": {
   "display_name": "Python 3",
   "language": "python",
   "name": "python3"
  },
  "language_info": {
   "codemirror_mode": {
    "name": "ipython",
    "version": 3
   },
   "file_extension": ".py",
   "mimetype": "text/x-python",
   "name": "python",
   "nbconvert_exporter": "python",
   "pygments_lexer": "ipython3",
   "version": "3.12.0"
  }
 },
 "nbformat": 4,
 "nbformat_minor": 2
}
