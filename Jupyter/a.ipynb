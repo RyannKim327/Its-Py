{
 "cells": [
  {
   "cell_type": "code",
   "execution_count": null,
   "metadata": {},
   "outputs": [],
   "source": [
    "# Data\n",
    "students_data = [\n",
    "\t[\"Alice\", [85, 90, 92], [\"Math\", \"English\", \"Science\"]],\n",
    "\t[\"Bob\", [78, 88, 80], [\"Math\", \"English\", \"Science\"]],\n",
    "\t[\"Charlie\", [92, 94, 89], [\"Math\", \"English\", \"Science\"]],\n",
    "\t[\"David\", [80, 85, 88], [\"Math\", \"English\", \"Science\"]],\n",
    "]"
   ]
  },
  {
   "cell_type": "code",
   "execution_count": null,
   "metadata": {},
   "outputs": [],
   "source": [
    "# Sorting Function\n",
    "def getStudents(arr: list):\n",
    "\n",
    "\t# Traversal\n",
    "\tfor i in arr:\n",
    "\t\tave = 0\n",
    "\t\tfor j in i[1]:\n",
    "\t\t\tave += j\n",
    "\t\tave /= len(i[1])\n",
    "\t\tave *= 100\n",
    "\t\tave //= 1\n",
    "\t\tave /= 100\n",
    "\t\tif(len(i) < 4):\n",
    "\t\t\ti.append(ave)\n",
    "\n",
    "\t# Sort\n",
    "\tfor i in range(len(arr)):\n",
    "\t\tfor j in range(len(arr)):\n",
    "\t\t\tif arr[i][-1] < arr[j][-1]:\n",
    "\t\t\t\tarr[i], arr[j] = arr[j], arr[i]\n",
    "\n",
    "\treturn arr"
   ]
  },
  {
   "cell_type": "code",
   "execution_count": null,
   "metadata": {},
   "outputs": [],
   "source": [
    "\n",
    "students_data = getStudents(students_data)\n",
    "print(f\"Sorted by Average: {students_data}\")\n",
    "\n",
    "print()\n",
    "\n",
    "students_data.append([\"Eva\", [95, 91, 88], [\"Math\", \"English\", \"Science\"]])\n",
    "print(f\"Added Eva: {students_data}\")\n",
    "\n",
    "print()\n",
    "\n",
    "students_data = getStudents(students_data)\n",
    "print(f\"New sort with Eva: {students_data}\")\n",
    "print()\n",
    "\n",
    "students_data.pop(0)\n",
    "print(f\"Remove lowest average: {students_data}\")\n",
    "\n",
    "print()\n",
    "\n",
    "english_scores = []\n",
    "for i in range(len(students_data)):\n",
    "\tenglish_scores.append(students_data[i][1][1])\n",
    "print(f\"All English grades: {students_data}\")\n",
    "\n",
    "print()\n",
    "\n",
    "maths = [i for i in students_data]\n",
    "for i in range(len(maths)):\n",
    "\tfor j in range(len(maths)):\n",
    "\t\tif maths[i][1][0] > maths[j][1][0]:\n",
    "\t\t\tmaths[i], maths[j] = maths[j], maths[i]\n",
    "\n",
    "print(f\"Sorted by Math: {maths}\")"
   ]
  }
 ],
 "metadata": {
  "language_info": {
   "name": "python"
  }
 },
 "nbformat": 4,
 "nbformat_minor": 2
}
