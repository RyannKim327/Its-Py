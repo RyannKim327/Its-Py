{
 "cells": [
  {
   "cell_type": "code",
   "execution_count": 1,
   "metadata": {},
   "outputs": [],
   "source": [
    "# Data\n",
    "students_data = [\n",
    "\t[\"Alice\", [85, 90, 92], [\"Math\", \"English\", \"Science\"]],\n",
    "\t[\"Bob\", [78, 88, 80], [\"Math\", \"English\", \"Science\"]],\n",
    "\t[\"Charlie\", [92, 94, 89], [\"Math\", \"English\", \"Science\"]],\n",
    "\t[\"David\", [80, 85, 88], [\"Math\", \"English\", \"Science\"]],\n",
    "]"
   ]
  },
  {
   "cell_type": "code",
   "execution_count": 2,
   "metadata": {},
   "outputs": [],
   "source": [
    "# Sorting Function\n",
    "def getStudents(arr: list):\n",
    "\n",
    "\t# Traversal\n",
    "\tfor i in arr:\n",
    "\t\tave = 0\n",
    "\t\tfor j in i[1]:\n",
    "\t\t\tave += j\n",
    "\t\tave /= len(i[1])\n",
    "\t\tave *= 100\n",
    "\t\tave //= 1\n",
    "\t\tave /= 100\n",
    "\t\tif(len(i) < 4):\n",
    "\t\t\ti.append(ave)\n",
    "\t\telse:\n",
    "\t\t\ti[3] = ave\n",
    "\n",
    "\t# Sort\n",
    "\tfor i in range(len(arr)):\n",
    "\t\tfor j in range(len(arr)):\n",
    "\t\t\tif arr[i][-1] < arr[j][-1]:\n",
    "\t\t\t\tarr[i], arr[j] = arr[j], arr[i]\n",
    "\n",
    "\treturn arr"
   ]
  },
  {
   "cell_type": "code",
   "execution_count": 3,
   "metadata": {},
   "outputs": [
    {
     "data": {
      "text/plain": [
       "[['Bob', [78, 88, 80], ['Math', 'English', 'Science'], 82.0],\n",
       " ['David', [80, 85, 88], ['Math', 'English', 'Science'], 84.33],\n",
       " ['Alice', [85, 90, 92], ['Math', 'English', 'Science'], 89.0],\n",
       " ['Charlie', [92, 94, 89], ['Math', 'English', 'Science'], 91.66]]"
      ]
     },
     "execution_count": 3,
     "metadata": {},
     "output_type": "execute_result"
    }
   ],
   "source": [
    "# Sorted by average\n",
    "students_data = getStudents(students_data)\n",
    "students_data"
   ]
  },
  {
   "cell_type": "code",
   "execution_count": 4,
   "metadata": {},
   "outputs": [
    {
     "data": {
      "text/plain": [
       "[['Bob', [78, 88, 80], ['Math', 'English', 'Science'], 82.0],\n",
       " ['David', [80, 85, 88], ['Math', 'English', 'Science'], 84.33],\n",
       " ['Alice', [85, 90, 92], ['Math', 'English', 'Science'], 89.0],\n",
       " ['Charlie', [92, 94, 89], ['Math', 'English', 'Science'], 91.66],\n",
       " ['Eva', [95, 91, 88], ['Math', 'English', 'Science']]]"
      ]
     },
     "execution_count": 4,
     "metadata": {},
     "output_type": "execute_result"
    }
   ],
   "source": [
    "# Eva Added\n",
    "students_data.append([\"Eva\", [95, 91, 88], [\"Math\", \"English\", \"Science\"]])\n",
    "students_data"
   ]
  },
  {
   "cell_type": "code",
   "execution_count": 5,
   "metadata": {},
   "outputs": [
    {
     "data": {
      "text/plain": [
       "[['Bob', [78, 88, 80], ['Math', 'English', 'Science'], 82.0],\n",
       " ['David', [80, 85, 88], ['Math', 'English', 'Science'], 84.33],\n",
       " ['Alice', [85, 90, 92], ['Math', 'English', 'Science'], 89.0],\n",
       " ['Eva', [95, 91, 88], ['Math', 'English', 'Science'], 91.33],\n",
       " ['Charlie', [92, 94, 89], ['Math', 'English', 'Science'], 91.66]]"
      ]
     },
     "execution_count": 5,
     "metadata": {},
     "output_type": "execute_result"
    }
   ],
   "source": [
    "# Sort with Eva\n",
    "students_data = getStudents(students_data)\n",
    "backup_data = [i for i in students_data]\n",
    "students_data"
   ]
  },
  {
   "cell_type": "code",
   "execution_count": 6,
   "metadata": {},
   "outputs": [
    {
     "data": {
      "text/plain": [
       "[['David', [80, 85, 88], ['Math', 'English', 'Science'], 84.33],\n",
       " ['Alice', [85, 90, 92], ['Math', 'English', 'Science'], 89.0],\n",
       " ['Eva', [95, 91, 88], ['Math', 'English', 'Science'], 91.33],\n",
       " ['Charlie', [92, 94, 89], ['Math', 'English', 'Science'], 91.66]]"
      ]
     },
     "execution_count": 6,
     "metadata": {},
     "output_type": "execute_result"
    }
   ],
   "source": [
    "# Removed lowest Average\n",
    "students_data.pop(0)\n",
    "students_data"
   ]
  },
  {
   "cell_type": "code",
   "execution_count": 7,
   "metadata": {},
   "outputs": [
    {
     "data": {
      "text/plain": [
       "[['David', [80, 85, 88], ['Math', 'English', 'Science'], 84.33],\n",
       " ['Alice', [85, 90, 92], ['Math', 'English', 'Science'], 89.0],\n",
       " ['Eva', [95, 91, 88], ['Math', 'English', 'Science'], 91.33],\n",
       " ['Charlie', [92, 94, 89], ['Math', 'English', 'Science'], 91.66]]"
      ]
     },
     "execution_count": 7,
     "metadata": {},
     "output_type": "execute_result"
    }
   ],
   "source": [
    "# Print all english scores\n",
    "english_scores = []\n",
    "for i in range(len(backup_data)):\n",
    "\tenglish_scores.append(backup_data[i][1][1])\n",
    "students_data"
   ]
  },
  {
   "cell_type": "code",
   "execution_count": 8,
   "metadata": {},
   "outputs": [
    {
     "data": {
      "text/plain": [
       "[['David', [80, 85, 88], ['Math', 'English', 'Science'], 84.33],\n",
       " ['Alice', [85, 90, 92], ['Math', 'English', 'Science'], 89.0],\n",
       " ['Eva', [95, 91, 88], ['Math', 'English', 'Science'], 91.33],\n",
       " ['Charlie', [92, 94, 89], ['Math', 'English', 'Science'], 91.66]]"
      ]
     },
     "execution_count": 8,
     "metadata": {},
     "output_type": "execute_result"
    }
   ],
   "source": [
    "# Sort with Math Scores\n",
    "maths = [i for i in backup_data]\n",
    "for i in range(len(maths)):\n",
    "\tfor j in range(len(maths)):\n",
    "\t\tif maths[i][1][0] > maths[j][1][0]:\n",
    "\t\t\tmaths[i], maths[j] = maths[j], maths[i]\n",
    "\n",
    "students_data"
   ]
  },
  {
   "cell_type": "code",
   "execution_count": 9,
   "metadata": {},
   "outputs": [
    {
     "data": {
      "text/plain": [
       "[['Bob', [85, 87, 90], ['Math', 'English', 'Science'], 82.0],\n",
       " ['David', [80, 85, 88], ['Math', 'English', 'Science'], 84.33],\n",
       " ['Alice', [85, 90, 92], ['Math', 'English', 'Science'], 89.0],\n",
       " ['Eva', [95, 91, 88], ['Math', 'English', 'Science'], 91.33],\n",
       " ['Charlie', [92, 94, 89], ['Math', 'English', 'Science'], 91.66]]"
      ]
     },
     "execution_count": 9,
     "metadata": {},
     "output_type": "execute_result"
    }
   ],
   "source": [
    "# Replace Bob's score\n",
    "for i in range(len(backup_data)):\n",
    "\tif backup_data[i][0] == \"Bob\":\n",
    "\t\tbackup_data[i][1] = [85, 87, 90]\n",
    "backup_data"
   ]
  },
  {
   "cell_type": "code",
   "execution_count": 10,
   "metadata": {},
   "outputs": [
    {
     "data": {
      "text/plain": [
       "[['David', [80, 85, 88], ['Math', 'English', 'Science'], 84.33],\n",
       " ['Bob', [85, 87, 90], ['Math', 'English', 'Science'], 87.33],\n",
       " ['Alice', [85, 90, 92], ['Math', 'English', 'Science'], 89.0],\n",
       " ['Eva', [95, 91, 88], ['Math', 'English', 'Science'], 91.33],\n",
       " ['Charlie', [92, 94, 89], ['Math', 'English', 'Science'], 91.66]]"
      ]
     },
     "execution_count": 10,
     "metadata": {},
     "output_type": "execute_result"
    }
   ],
   "source": [
    "backup_data = getStudents(backup_data)\n",
    "backup_data"
   ]
  }
 ],
 "metadata": {
  "kernelspec": {
   "display_name": "Python 3",
   "language": "python",
   "name": "python3"
  },
  "language_info": {
   "codemirror_mode": {
    "name": "ipython",
    "version": 3
   },
   "file_extension": ".py",
   "mimetype": "text/x-python",
   "name": "python",
   "nbconvert_exporter": "python",
   "pygments_lexer": "ipython3",
   "version": "3.12.0"
  }
 },
 "nbformat": 4,
 "nbformat_minor": 2
}
