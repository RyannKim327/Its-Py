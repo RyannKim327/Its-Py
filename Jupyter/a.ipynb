{
 "cells": [
  {
   "cell_type": "code",
   "execution_count": 1,
   "metadata": {},
   "outputs": [],
   "source": [
    "# Data\n",
    "students_data = [\n",
    "\t[\"Alice\", [85, 90, 92], [\"Math\", \"English\", \"Science\"]],\n",
    "\t[\"Bob\", [78, 88, 80], [\"Math\", \"English\", \"Science\"]],\n",
    "\t[\"Charlie\", [92, 94, 89], [\"Math\", \"English\", \"Science\"]],\n",
    "\t[\"David\", [80, 85, 88], [\"Math\", \"English\", \"Science\"]],\n",
    "]"
   ]
  },
  {
   "cell_type": "code",
   "execution_count": 2,
   "metadata": {},
   "outputs": [],
   "source": [
    "# Sorting Function\n",
    "def getStudents(arr: list):\n",
    "\n",
    "\t# Traversal\n",
    "\tfor i in arr:\n",
    "\t\tave = 0\n",
    "\t\tfor j in i[1]:\n",
    "\t\t\tave += j\n",
    "\t\tave /= len(i[1])\n",
    "\t\tave *= 100\n",
    "\t\tave //= 1\n",
    "\t\tave /= 100\n",
    "\t\tif(len(i) < 4):\n",
    "\t\t\ti.append(ave)\n",
    "\n",
    "\t# Sort\n",
    "\tfor i in range(len(arr)):\n",
    "\t\tfor j in range(len(arr)):\n",
    "\t\t\tif arr[i][-1] < arr[j][-1]:\n",
    "\t\t\t\tarr[i], arr[j] = arr[j], arr[i]\n",
    "\n",
    "\treturn arr"
   ]
  },
  {
   "cell_type": "code",
   "execution_count": 3,
   "metadata": {},
   "outputs": [
    {
     "name": "stdout",
     "output_type": "stream",
     "text": [
      "Sorted by Average: [['Bob', [78, 88, 80], ['Math', 'English', 'Science'], 82.0], ['David', [80, 85, 88], ['Math', 'English', 'Science'], 84.33], ['Alice', [85, 90, 92], ['Math', 'English', 'Science'], 89.0], ['Charlie', [92, 94, 89], ['Math', 'English', 'Science'], 91.66]]\n"
     ]
    }
   ],
   "source": [
    "# Sorted by average\n",
    "students_data = getStudents(students_data)\n",
    "print(f\"Sorted by Average: {students_data}\")"
   ]
  },
  {
   "cell_type": "code",
   "execution_count": 4,
   "metadata": {},
   "outputs": [
    {
     "name": "stdout",
     "output_type": "stream",
     "text": [
      "Added Eva: [['Bob', [78, 88, 80], ['Math', 'English', 'Science'], 82.0], ['David', [80, 85, 88], ['Math', 'English', 'Science'], 84.33], ['Alice', [85, 90, 92], ['Math', 'English', 'Science'], 89.0], ['Charlie', [92, 94, 89], ['Math', 'English', 'Science'], 91.66], ['Eva', [95, 91, 88], ['Math', 'English', 'Science']]]\n"
     ]
    }
   ],
   "source": [
    "# Eva Added\n",
    "students_data.append([\"Eva\", [95, 91, 88], [\"Math\", \"English\", \"Science\"]])\n",
    "print(f\"Added Eva: {students_data}\")"
   ]
  },
  {
   "cell_type": "code",
   "execution_count": 5,
   "metadata": {},
   "outputs": [
    {
     "name": "stdout",
     "output_type": "stream",
     "text": [
      "New sort with Eva: [['Bob', [78, 88, 80], ['Math', 'English', 'Science'], 82.0], ['David', [80, 85, 88], ['Math', 'English', 'Science'], 84.33], ['Alice', [85, 90, 92], ['Math', 'English', 'Science'], 89.0], ['Eva', [95, 91, 88], ['Math', 'English', 'Science'], 91.33], ['Charlie', [92, 94, 89], ['Math', 'English', 'Science'], 91.66]]\n"
     ]
    }
   ],
   "source": [
    "# Sort with Eva\n",
    "students_data = getStudents(students_data)\n",
    "print(f\"New sort with Eva: {students_data}\")"
   ]
  },
  {
   "cell_type": "code",
   "execution_count": 6,
   "metadata": {},
   "outputs": [
    {
     "name": "stdout",
     "output_type": "stream",
     "text": [
      "Remove lowest average: [['David', [80, 85, 88], ['Math', 'English', 'Science'], 84.33], ['Alice', [85, 90, 92], ['Math', 'English', 'Science'], 89.0], ['Eva', [95, 91, 88], ['Math', 'English', 'Science'], 91.33], ['Charlie', [92, 94, 89], ['Math', 'English', 'Science'], 91.66]]\n"
     ]
    }
   ],
   "source": [
    "# Removed lowest Average\n",
    "students_data.pop(0)\n",
    "print(f\"Remove lowest average: {students_data}\")"
   ]
  },
  {
   "cell_type": "code",
   "execution_count": 7,
   "metadata": {},
   "outputs": [
    {
     "name": "stdout",
     "output_type": "stream",
     "text": [
      "All English grades: [['David', [80, 85, 88], ['Math', 'English', 'Science'], 84.33], ['Alice', [85, 90, 92], ['Math', 'English', 'Science'], 89.0], ['Eva', [95, 91, 88], ['Math', 'English', 'Science'], 91.33], ['Charlie', [92, 94, 89], ['Math', 'English', 'Science'], 91.66]]\n"
     ]
    }
   ],
   "source": [
    "# Print all english scores\n",
    "english_scores = []\n",
    "for i in range(len(students_data)):\n",
    "\tenglish_scores.append(students_data[i][1][1])\n",
    "print(f\"All English grades: {students_data}\")"
   ]
  },
  {
   "cell_type": "code",
   "execution_count": 8,
   "metadata": {},
   "outputs": [
    {
     "name": "stdout",
     "output_type": "stream",
     "text": [
      "Sorted by Math: [['Eva', [95, 91, 88], ['Math', 'English', 'Science'], 91.33], ['Charlie', [92, 94, 89], ['Math', 'English', 'Science'], 91.66], ['Alice', [85, 90, 92], ['Math', 'English', 'Science'], 89.0], ['David', [80, 85, 88], ['Math', 'English', 'Science'], 84.33]]\n"
     ]
    }
   ],
   "source": [
    "# Sort with Math Scores\n",
    "maths = [i for i in students_data]\n",
    "for i in range(len(maths)):\n",
    "\tfor j in range(len(maths)):\n",
    "\t\tif maths[i][1][0] > maths[j][1][0]:\n",
    "\t\t\tmaths[i], maths[j] = maths[j], maths[i]\n",
    "\n",
    "print(f\"Sorted by Math: {maths}\")"
   ]
  }
 ],
 "metadata": {
  "kernelspec": {
   "display_name": "Python 3",
   "language": "python",
   "name": "python3"
  },
  "language_info": {
   "codemirror_mode": {
    "name": "ipython",
    "version": 3
   },
   "file_extension": ".py",
   "mimetype": "text/x-python",
   "name": "python",
   "nbconvert_exporter": "python",
   "pygments_lexer": "ipython3",
   "version": "3.12.0"
  }
 },
 "nbformat": 4,
 "nbformat_minor": 2
}
