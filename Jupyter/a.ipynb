{
 "cells": [
  {
   "cell_type": "code",
   "execution_count": null,
   "metadata": {},
   "outputs": [],
   "source": [
    "# Data\n",
    "students_data = [\n",
    "\t[\"Alice\", [85, 90, 92], [\"Math\", \"English\", \"Science\"]],\n",
    "\t[\"Bob\", [78, 88, 80], [\"Math\", \"English\", \"Science\"]],\n",
    "\t[\"Charlie\", [92, 94, 89], [\"Math\", \"English\", \"Science\"]],\n",
    "\t[\"David\", [80, 85, 88], [\"Math\", \"English\", \"Science\"]],\n",
    "]"
   ]
  },
  {
   "cell_type": "code",
   "execution_count": null,
   "metadata": {},
   "outputs": [],
   "source": [
    "# Sorting Function\n",
    "def getStudents(arr: list):\n",
    "\n",
    "\t# Traversal\n",
    "\tfor i in arr:\n",
    "\t\tave = 0\n",
    "\t\tfor j in i[1]:\n",
    "\t\t\tave += j\n",
    "\t\tave /= len(i[1])\n",
    "\t\tave *= 100\n",
    "\t\tave //= 1\n",
    "\t\tave /= 100\n",
    "\t\tif(len(i) < 4):\n",
    "\t\t\ti.append(ave)\n",
    "\t\telse:\n",
    "\t\t\ti[3] = ave\n",
    "\n",
    "\treturn arr"
   ]
  },
  {
   "cell_type": "code",
   "execution_count": null,
   "metadata": {},
   "outputs": [],
   "source": [
    "# Sort [Bubble Sort]\n",
    "def sorting(arr):\n",
    "\tfor i in range(len(arr)):\n",
    "\t\tfor j in range(len(arr)):\n",
    "\t\t\tif arr[i][-1] < arr[j][-1]:\n",
    "\t\t\t\tarr[i], arr[j] = arr[j], arr[i]\n",
    "\treturn arr"
   ]
  },
  {
   "cell_type": "code",
   "execution_count": null,
   "metadata": {},
   "outputs": [],
   "source": [
    "# Get all average and round by 2 decimal places\n",
    "students_data = getStudents(students_data)\n",
    "students_data"
   ]
  },
  {
   "cell_type": "code",
   "execution_count": null,
   "metadata": {},
   "outputs": [],
   "source": [
    "students_data = sorting(students_data)\n",
    "students_data"
   ]
  },
  {
   "cell_type": "code",
   "execution_count": null,
   "metadata": {},
   "outputs": [],
   "source": [
    "# Eva Added\n",
    "students_data.append([\"Eva\", [95, 91, 88], [\"Math\", \"English\", \"Science\"]])\n",
    "students_data"
   ]
  },
  {
   "cell_type": "code",
   "execution_count": null,
   "metadata": {},
   "outputs": [],
   "source": [
    "# New Data with Eva\n",
    "students_data = getStudents(students_data)\n",
    "backup_data = [i for i in students_data]\n",
    "students_data"
   ]
  },
  {
   "cell_type": "code",
   "execution_count": null,
   "metadata": {},
   "outputs": [],
   "source": [
    "# Sort for removal\n",
    "students_data = sorting(students_data)"
   ]
  },
  {
   "cell_type": "code",
   "execution_count": null,
   "metadata": {},
   "outputs": [],
   "source": [
    "# Removed lowest Average\n",
    "students_data.pop(0)\n",
    "students_data"
   ]
  },
  {
   "cell_type": "code",
   "execution_count": null,
   "metadata": {},
   "outputs": [],
   "source": [
    "# Print all english scores\n",
    "english_scores = []\n",
    "for i in range(len(backup_data)):\n",
    "\tenglish_scores.append(backup_data[i][1][1])\n",
    "students_data"
   ]
  },
  {
   "cell_type": "code",
   "execution_count": null,
   "metadata": {},
   "outputs": [],
   "source": [
    "# Sort with Math Scores [Bubble sort] and Print Students\n",
    "maths = [i for i in backup_data]\n",
    "for i in range(len(maths)):\n",
    "\tfor j in range(len(maths)):\n",
    "\t\tif maths[i][1][0] > maths[j][1][0]:\n",
    "\t\t\tmaths[i], maths[j] = maths[j], maths[i]\n",
    "\n",
    "students_data"
   ]
  },
  {
   "cell_type": "code",
   "execution_count": null,
   "metadata": {},
   "outputs": [],
   "source": [
    "# Overall Average\n",
    "overall = 0\n",
    "for i in backup_data:\n",
    "\toverall += i[-1]\n",
    "\n",
    "overall /= len(backup_data)\n",
    "overall"
   ]
  },
  {
   "cell_type": "code",
   "execution_count": null,
   "metadata": {},
   "outputs": [],
   "source": [
    "# Average thru subjects\n",
    "english_scores = 0\n",
    "math_scores = 0\n",
    "science_scores = 0\n",
    "\n",
    "for i in backup_data:\n",
    "\tmath_scores += i[1][0]\n",
    "\tenglish_scores += i[1][1]\n",
    "\tscience_scores += i[1][2]\n",
    "\n",
    "english_scores /= len(backup_data)\n",
    "math_scores /= len(backup_data)\n",
    "science_scores /= len(backup_data)\n",
    "\n",
    "subj_data = [math_scores, english_scores, science_scores]"
   ]
  },
  {
   "cell_type": "code",
   "execution_count": null,
   "metadata": {},
   "outputs": [],
   "source": [
    "# English Score\n",
    "english_scores"
   ]
  },
  {
   "cell_type": "code",
   "execution_count": null,
   "metadata": {},
   "outputs": [],
   "source": [
    "# Math Score\n",
    "math_scores"
   ]
  },
  {
   "cell_type": "code",
   "execution_count": null,
   "metadata": {},
   "outputs": [],
   "source": [
    "# Sscience Score\n",
    "science_scores"
   ]
  },
  {
   "cell_type": "code",
   "execution_count": null,
   "metadata": {},
   "outputs": [],
   "source": [
    "# Sorting the subject data and get the highes average\n",
    "subjs = backup_data[0][-2]\n",
    "for i in range(len(subj_data)):\n",
    "\tfor j in range(len(subj_data)):\n",
    "\t\tif subj_data[i] > subj_data[j]:\n",
    "\t\t\tsubj_data[i], subj_data[j] = subj_data[j], subj_data[i]\n",
    "\t\t\tsubjs[i], subjs[j] = subjs[j], subjs[i]"
   ]
  },
  {
   "cell_type": "code",
   "execution_count": null,
   "metadata": {},
   "outputs": [],
   "source": [
    "subj_data[0]"
   ]
  },
  {
   "cell_type": "code",
   "execution_count": null,
   "metadata": {},
   "outputs": [],
   "source": [
    "subjs[0]"
   ]
  },
  {
   "cell_type": "code",
   "execution_count": null,
   "metadata": {},
   "outputs": [],
   "source": [
    "# Replace Bob's score\n",
    "for i in range(len(backup_data)):\n",
    "\tif backup_data[i][0] == \"Bob\":\n",
    "\t\tbackup_data[i][1] = [85, 87, 90]\n",
    "backup_data"
   ]
  },
  {
   "cell_type": "code",
   "execution_count": null,
   "metadata": {},
   "outputs": [],
   "source": [
    "backup_data = getStudents(backup_data)\n",
    "backup_data = sorting(backup_data)\n",
    "backup_data"
   ]
  },
  {
   "cell_type": "code",
   "execution_count": null,
   "metadata": {},
   "outputs": [],
   "source": [
    "# Calculation for perfect score\n",
    "has_perfect = False\n",
    "for i in backup_data:\n",
    "\tfor j in i[1]:\n",
    "\t\tif j == 100:\n",
    "\t\t\tprint(f\"Name: {backup_data[0]}\")\n",
    "\t\t\thas_perfect = True\n",
    "\t\t\t\n",
    "if not has_perfect:\n",
    "\tprint(\"No students got perfect\")"
   ]
  }
 ],
 "metadata": {
  "kernelspec": {
   "display_name": "Python 3",
   "language": "python",
   "name": "python3"
  },
  "language_info": {
   "codemirror_mode": {
    "name": "ipython",
    "version": 3
   },
   "file_extension": ".py",
   "mimetype": "text/x-python",
   "name": "python",
   "nbconvert_exporter": "python",
   "pygments_lexer": "ipython3",
   "version": "3.12.0"
  }
 },
 "nbformat": 4,
 "nbformat_minor": 2
}
