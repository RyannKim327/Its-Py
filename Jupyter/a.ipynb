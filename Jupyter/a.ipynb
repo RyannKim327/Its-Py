{
 "cells": [
  {
   "cell_type": "code",
   "execution_count": null,
   "metadata": {},
   "outputs": [],
   "source": [
    "# Data\n",
    "students_data = [\n",
    "\t[\"Alice\", [85, 90, 92], [\"Math\", \"English\", \"Science\"]],\n",
    "\t[\"Bob\", [78, 88, 80], [\"Math\", \"English\", \"Science\"]],\n",
    "\t[\"Charlie\", [92, 94, 89], [\"Math\", \"English\", \"Science\"]],\n",
    "\t[\"David\", [80, 85, 88], [\"Math\", \"English\", \"Science\"]],\n",
    "]"
   ]
  },
  {
   "cell_type": "code",
   "execution_count": null,
   "metadata": {},
   "outputs": [],
   "source": [
    "# Sorting Function\n",
    "def getStudents(arr: list):\n",
    "\n",
    "\t# Traversal\n",
    "\tfor i in arr:\n",
    "\t\tave = 0\n",
    "\t\tfor j in i[1]:\n",
    "\t\t\tave += j\n",
    "\t\tave /= len(i[1])\n",
    "\t\tave *= 100\n",
    "\t\tave //= 1\n",
    "\t\tave /= 100\n",
    "\t\tif(len(i) < 4):\n",
    "\t\t\ti.append(ave)\n",
    "\n",
    "\t# Sort\n",
    "\tfor i in range(len(arr)):\n",
    "\t\tfor j in range(len(arr)):\n",
    "\t\t\tif arr[i][-1] < arr[j][-1]:\n",
    "\t\t\t\tarr[i], arr[j] = arr[j], arr[i]\n",
    "\n",
    "\treturn arr"
   ]
  },
  {
   "cell_type": "code",
   "execution_count": null,
   "metadata": {},
   "outputs": [],
   "source": [
    "# Sorted by average\n",
    "students_data = getStudents(students_data)\n",
    "print(f\"Sorted by Average: {students_data}\")"
   ]
  },
  {
   "cell_type": "code",
   "execution_count": null,
   "metadata": {},
   "outputs": [],
   "source": []
  }
 ],
 "metadata": {
  "language_info": {
   "name": "python"
  }
 },
 "nbformat": 4,
 "nbformat_minor": 2
}
