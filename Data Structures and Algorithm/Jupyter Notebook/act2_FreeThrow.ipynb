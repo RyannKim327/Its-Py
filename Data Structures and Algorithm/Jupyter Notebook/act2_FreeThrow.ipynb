{
 "cells": [
  {
   "cell_type": "code",
   "execution_count": null,
   "id": "8e6f99c0-2f46-4d21-8a86-af16079c226b",
   "metadata": {},
   "outputs": [],
   "source": [
    "import numpy as np\n",
    "import matplotlib.pyplot as plt\n",
    "import warnings"
   ]
  },
  {
   "cell_type": "code",
   "execution_count": null,
   "id": "5f1e97f9-3790-4f05-9798-4ebf2060ed8f",
   "metadata": {},
   "outputs": [],
   "source": [
    "warnings.filterwarnings(\"ignore\")"
   ]
  },
  {
   "cell_type": "code",
   "execution_count": null,
   "id": "d441494b-5174-4438-a72e-502dcc003ce0",
   "metadata": {},
   "outputs": [],
   "source": [
    "#Seasons\n",
    "Seasons = [\"2005\",\"2006\",\"2007\",\"2008\",\"2009\",\"2010\",\"2011\",\"2012\",\"2013\",\"2014\"]\n",
    "\n",
    "#Players\n",
    "Players = [\"KobeBryant\",\"JoeJohnson\",\"LeBronJames\",\"CarmeloAnthony\",\"DwightHoward\",\"ChrisBosh\",\"ChrisPaul\",\"KevinDurant\",\"DerrickRose\",\"DwayneWade\"]\n",
    "\n",
    "#Free Throws\n",
    "KobeBryant_FT = [696,667,623,483,439,483,381,525,18,196]\n",
    "JoeJohnson_FT = [261,235,316,299,220,195,158,132,159,141]\n",
    "LeBronJames_FT = [601,489,549,594,593,503,387,403,439,375]\n",
    "CarmeloAnthony_FT = [573,459,464,371,508,507,295,425,459,189]\n",
    "DwightHoward_FT = [356,390,529,504,483,546,281,355,349,143]\n",
    "ChrisBosh_FT = [474,463,472,504,470,384,229,241,223,179]\n",
    "ChrisPaul_FT = [394,292,332,455,161,337,260,286,295,289]\n",
    "KevinDurant_FT = [209,209,391,452,756,594,431,679,703,146]\n",
    "DerrickRose_FT = [146,146,146,197,259,476,194,0,27,152]\n",
    "DwayneWade_FT = [629,432,354,590,534,494,235,308,189,284]\n",
    "\n",
    "#Matrix\n",
    "#\n",
    "# <put your code here>\n",
    "#\n",
    "\n",
    "#Free Throw Attempts\n",
    "KobeBryant_FTA = [819,768,742,564,541,583,451,626,21,241]\n",
    "JoeJohnson_FTA = [330,314,379,362,269,243,186,161,195,176]\n",
    "LeBronJames_FTA = [814,701,771,762,773,663,502,535,585,528]\n",
    "CarmeloAnthony_FTA = [709,568,590,468,612,605,367,512,541,237]\n",
    "DwightHoward_FTA = [598,666,897,849,816,916,572,721,638,271]\n",
    "ChrisBosh_FTA = [581,590,559,617,590,471,279,302,272,232]\n",
    "ChrisPaul_FTA = [465,357,390,524,190,384,302,323,345,321]\n",
    "KevinDurant_FTA = [256,256,448,524,840,675,501,750,805,171]\n",
    "DerrickRose_FTA = [205,205,205,250,338,555,239,0,32,187]\n",
    "DwayneWade_FTA = [803,535,467,771,702,652,297,425,258,370]\n",
    "\n",
    "# Free Throw Points (FT) by season\n",
    "KobeBryant_FT = [696, 667, 623, 483, 439, 483, 381, 525, 18, 196]\n",
    "JoeJohnson_FT = [261, 235, 316, 299, 220, 195, 158, 132, 159, 141]\n",
    "LeBronJames_FT = [601, 489, 549, 594, 593, 503, 387, 403, 439, 375]\n",
    "CarmeloAnthony_FT = [573, 459, 464, 371, 508, 507, 295, 425, 459, 189]\n",
    "DwightHoward_FT = [356, 390, 529, 504, 483, 546, 281, 355, 349, 143]\n",
    "ChrisBosh_FT = [474, 463, 472, 504, 470, 384, 229, 241, 223, 179]\n",
    "ChrisPaul_FT = [394, 292, 332, 455, 161, 337, 260, 286, 295, 289]\n",
    "KevinDurant_FT = [209, 209, 391, 452, 756, 594, 431, 679, 703, 146]\n",
    "DerrickRose_FT = [146, 146, 146, 197, 259, 476, 194, 0, 27, 152]\n",
    "DwayneWade_FT = [629, 432, 354, 590, 534, 494, 235, 308, 189, 284]\n",
    "\n",
    "# Three-Pointers Made (3P) by season\n",
    "KobeBryant_3P = [180, 155, 180, 135, 139, 101, 90, 92, 18, 37]\n",
    "JoeJohnson_3P = [63, 52, 68, 94, 79, 61, 40, 87, 91, 88]\n",
    "LeBronJames_3P = [63, 81, 111, 145, 129, 92, 54, 116, 116, 120]\n",
    "CarmeloAnthony_3P = [68, 69, 50, 73, 59, 37, 67, 167, 167, 90]\n",
    "DwightHoward_3P = [0, 0, 0, 0, 0, 0, 0, 1, 5, 0]\n",
    "ChrisBosh_3P = [8, 8, 24, 21, 6, 16, 4, 9, 21, 0]\n",
    "ChrisPaul_3P = [10, 17, 63, 40, 45, 61, 44, 61, 52, 30]\n",
    "KevinDurant_3P = [59, 43, 55, 86, 128, 145, 133, 139, 192, 105]\n",
    "DerrickRose_3P = [8, 10, 32, 16, 32, 82, 29, 0, 13, 9]\n",
    "DwayneWade_3P = [49, 36, 8, 88, 73, 88, 59, 42, 32, 19]\n"
   ]
  },
  {
   "cell_type": "code",
   "execution_count": null,
   "id": "525f6ff7-7470-483c-b594-5d6779e8f964",
   "metadata": {},
   "outputs": [],
   "source": [
    "# Points Calculation\n",
    "KobeBryant_PTS = [KobeBryant_3P[i] + KobeBryant_FT[i] for i in range(len(KobeBryant_3P))]\n",
    "JoeJohnson_PTS = [JoeJohnson_3P[i] + JoeJohnson_FT[i] for i in range(len(JoeJohnson_3P))]\n",
    "LeBronJames_PTS = [LeBronJames_3P[i] + LeBronJames_FT[i] for i in range(len(LeBronJames_3P))]\n",
    "CarmeloAnthony_PTS = [CarmeloAnthony_3P[i] + CarmeloAnthony_FT[i] for i in range(len(CarmeloAnthony_3P))]\n",
    "DwightHoward_PTS = [DwightHoward_3P[i] + DwightHoward_FT[i] for i in range(len(DwightHoward_3P))]\n",
    "ChrisBosh_PTS = [ChrisBosh_3P[i] + ChrisBosh_FT[i] for i in range(len(ChrisBosh_3P))]\n",
    "ChrisPaul_PTS = [ChrisPaul_3P[i] + ChrisPaul_FT[i] for i in range(len(ChrisPaul_3P))]\n",
    "KevinDurant_PTS = [KevinDurant_3P[i] + KevinDurant_FT[i] for i in range(len(KevinDurant_3P))]\n",
    "DerrickRose_PTS = [DerrickRose_3P[i] + DerrickRose_FT[i] for i in range(len(DerrickRose_3P))]\n",
    "DwayneWade_PTS = [DwayneWade_3P[i] + DwayneWade_FT[i] for i in range(len(DwayneWade_3P))]"
   ]
  },
  {
   "cell_type": "code",
   "execution_count": null,
   "id": "3af96e4f-01b0-4a0f-9680-1235b147bcda",
   "metadata": {},
   "outputs": [],
   "source": [
    "# Matrix\n",
    "ft = [KobeBryant_FT, JoeJohnson_FT, LeBronJames_FT, CarmeloAnthony_FT, DwightHoward_FT, ChrisBosh_FT, ChrisPaul_FT, KevinDurant_FT, DerrickRose_FT, DwayneWade_FT]\n",
    "pts = [KobeBryant_PTS, JoeJohnson_PTS, LeBronJames_PTS, CarmeloAnthony_PTS, DwightHoward_PTS, ChrisBosh_PTS, ChrisPaul_PTS, KevinDurant_PTS, DerrickRose_PTS, DwayneWade_PTS]\n"
   ]
  },
  {
   "cell_type": "markdown",
   "id": "96cf98d1-827e-4f14-9c0c-76b3bb04959e",
   "metadata": {},
   "source": [
    "# Who is the most efficient Free Throw player?"
   ]
  },
  {
   "cell_type": "code",
   "execution_count": null,
   "id": "1db1c237-dc37-4076-a3ec-4b427eabbaa1",
   "metadata": {},
   "outputs": [],
   "source": [
    "ft = np.round(np.array([KobeBryant_FT, JoeJohnson_FT, LeBronJames_FT, CarmeloAnthony_FT, DwightHoward_FT, ChrisBosh_FT, ChrisPaul_FT, KevinDurant_FT, DerrickRose_FT, DwayneWade_FT]))\n",
    "attemps = np.round(np.array([KobeBryant_FTA, JoeJohnson_FTA, LeBronJames_FTA, CarmeloAnthony_FTA, DwightHoward_FTA, ChrisBosh_FTA, ChrisPaul_FTA, KevinDurant_FTA, DerrickRose_FTA, DwayneWade_FTA]))\n",
    "\n",
    "total = np.round((attemps / ft) * 100)\n",
    "\n",
    "plt.figure(figsize=(15, 8))\n",
    "plt.xlabel(\"Players\")\n",
    "plt.ylabel(\"Free Throwa\")\n",
    "plt.plot(Players, total)\n",
    "plt.legend(Players)\n",
    "plt.grid()\n",
    "plt.show()"
   ]
  },
  {
   "cell_type": "markdown",
   "id": "daa045bb-5ad8-40ea-8ced-df82782dcd02",
   "metadata": {},
   "source": [
    "# What is the percentage of free throw points in the total points?"
   ]
  },
  {
   "cell_type": "code",
   "execution_count": null,
   "id": "9afe7b95-0055-48f8-b325-8518c66892e5",
   "metadata": {},
   "outputs": [],
   "source": [
    "# Percentage of all free throw and 3 points of players\n",
    "\n",
    "for i in range(len(ft)):\n",
    "    freeThrow = np.round((np.round(np.sum(ft[i])) / np.round(np.sum(pts[i]))) * 100)\n",
    "    _3pts = 100 - freeThrow\n",
    "    plt.title(Players[i])\n",
    "    plt.pie([freeThrow, _3pts])\n",
    "    plt.legend([\"Free throw\", \"3 Points\"])\n",
    "    plt.show()"
   ]
  }
 ],
 "metadata": {
  "kernelspec": {
   "display_name": "Python 3 (ipykernel)",
   "language": "python",
   "name": "python3"
  },
  "language_info": {
   "codemirror_mode": {
    "name": "ipython",
    "version": 3
   },
   "file_extension": ".py",
   "mimetype": "text/x-python",
   "name": "python",
   "nbconvert_exporter": "python",
   "pygments_lexer": "ipython3",
   "version": "3.12.0"
  }
 },
 "nbformat": 4,
 "nbformat_minor": 5
}
