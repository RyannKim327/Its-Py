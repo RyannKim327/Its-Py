{
 "cells": [
  {
   "cell_type": "code",
   "execution_count": null,
   "id": "3201021b-5e1f-413c-ac6a-decb85476c99",
   "metadata": {},
   "outputs": [],
   "source": [
    "import pandas as pd\n",
    "import matplotlib as plt"
   ]
  },
  {
   "cell_type": "code",
   "execution_count": null,
   "id": "70a0bd72-8415-44f5-b0ea-de42e243a683",
   "metadata": {},
   "outputs": [],
   "source": [
    "# Fetching of data\n",
    "\n",
    "pokemon = pd.read_csv(\"data/pokemon.csv\")\n",
    "pokemon"
   ]
  },
  {
   "cell_type": "code",
   "execution_count": null,
   "id": "e1bda45e-8b38-4e13-99aa-475b851dd8c8",
   "metadata": {},
   "outputs": [],
   "source": [
    "bar = pokemon.plot(x=\"Type 1\", y=\"Total\")\n",
    "plt\n",
    "plt.grid()\n",
    "plt.show()"
   ]
  }
 ],
 "metadata": {
  "kernelspec": {
   "display_name": "Python 3 (ipykernel)",
   "language": "python",
   "name": "python3"
  },
  "language_info": {
   "codemirror_mode": {
    "name": "ipython",
    "version": 3
   },
   "file_extension": ".py",
   "mimetype": "text/x-python",
   "name": "python",
   "nbconvert_exporter": "python",
   "pygments_lexer": "ipython3",
   "version": "3.12.0"
  }
 },
 "nbformat": 4,
 "nbformat_minor": 5
}
