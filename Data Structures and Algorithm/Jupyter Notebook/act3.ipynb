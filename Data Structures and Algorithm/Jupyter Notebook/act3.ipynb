{
 "cells": [
  {
   "cell_type": "code",
   "execution_count": null,
   "id": "a431f59c-c948-44de-9f5f-60e3e28b32bf",
   "metadata": {},
   "outputs": [],
   "source": [
    "import numpy as np\n",
    "import matplotlib.pyplot as plt\n",
    "import pandas as pd\n",
    "import seaborn as sb\n",
    "import warnings\n",
    "\n",
    "warnings.filterwarnings(\"ignore\")"
   ]
  },
  {
   "cell_type": "code",
   "execution_count": null,
   "id": "f7aa36a1-f272-427c-a93f-b41917cd8f67",
   "metadata": {},
   "outputs": [],
   "source": [
    "# Import\n",
    "\n",
    "data = pd.read_csv(\"data/Demographic-Data.csv\")"
   ]
  },
  {
   "cell_type": "code",
   "execution_count": null,
   "id": "bd3200c3-dde7-4a6e-9a58-b09f00c02969",
   "metadata": {},
   "outputs": [],
   "source": [
    "data.columns = ['Country_Name', 'Country_Code', 'Birth_rate', 'Internet', 'Income']\n",
    "data.columns"
   ]
  },
  {
   "cell_type": "code",
   "execution_count": null,
   "id": "27851232-8cd6-4120-8186-88c9177684ab",
   "metadata": {},
   "outputs": [],
   "source": [
    "data.Country_Name = data.Country_Name.astype(\"category\")\n",
    "data.Country_Code = data.Country_Code.astype(\"category\")\n",
    "data.Income = data.Income.astype(\"category\")\n",
    "data.info()\n"
   ]
  },
  {
   "cell_type": "code",
   "execution_count": null,
   "id": "902ff645-b909-4dc3-add9-7a4206efa531",
   "metadata": {},
   "outputs": [],
   "source": [
    "sb.boxplot(data, data.Birth_rate, data.Income)"
   ]
  }
 ],
 "metadata": {
  "kernelspec": {
   "display_name": "Python 3 (ipykernel)",
   "language": "python",
   "name": "python3"
  },
  "language_info": {
   "codemirror_mode": {
    "name": "ipython",
    "version": 3
   },
   "file_extension": ".py",
   "mimetype": "text/x-python",
   "name": "python",
   "nbconvert_exporter": "python",
   "pygments_lexer": "ipython3",
   "version": "3.12.0"
  }
 },
 "nbformat": 4,
 "nbformat_minor": 5
}
