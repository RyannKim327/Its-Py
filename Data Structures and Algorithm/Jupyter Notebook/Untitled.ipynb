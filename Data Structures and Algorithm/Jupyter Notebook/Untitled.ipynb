{
 "cells": [
  {
   "cell_type": "code",
   "execution_count": 3,
   "id": "8e6f99c0-2f46-4d21-8a86-af16079c226b",
   "metadata": {},
   "outputs": [],
   "source": [
    "import numpy as np\n",
    "import matplotlib.pyplot as plt"
   ]
  },
  {
   "cell_type": "code",
   "execution_count": 4,
   "id": "d441494b-5174-4438-a72e-502dcc003ce0",
   "metadata": {},
   "outputs": [],
   "source": [
    "#Seasons\n",
    "Seasons = [\"2005\",\"2006\",\"2007\",\"2008\",\"2009\",\"2010\",\"2011\",\"2012\",\"2013\",\"2014\"]\n",
    "\n",
    "#Players\n",
    "Players = [\"KobeBryant\",\"JoeJohnson\",\"LeBronJames\",\"CarmeloAnthony\",\"DwightHoward\",\"ChrisBosh\",\"ChrisPaul\",\"KevinDurant\",\"DerrickRose\",\"DwayneWade\"]\n",
    "\n",
    "#Free Throws\n",
    "KobeBryant_FT = [696,667,623,483,439,483,381,525,18,196]\n",
    "JoeJohnson_FT = [261,235,316,299,220,195,158,132,159,141]\n",
    "LeBronJames_FT = [601,489,549,594,593,503,387,403,439,375]\n",
    "CarmeloAnthony_FT = [573,459,464,371,508,507,295,425,459,189]\n",
    "DwightHoward_FT = [356,390,529,504,483,546,281,355,349,143]\n",
    "ChrisBosh_FT = [474,463,472,504,470,384,229,241,223,179]\n",
    "ChrisPaul_FT = [394,292,332,455,161,337,260,286,295,289]\n",
    "KevinDurant_FT = [209,209,391,452,756,594,431,679,703,146]\n",
    "DerrickRose_FT = [146,146,146,197,259,476,194,0,27,152]\n",
    "DwayneWade_FT = [629,432,354,590,534,494,235,308,189,284]\n",
    "\n",
    "#Matrix\n",
    "#\n",
    "# <put your code here>\n",
    "#\n",
    "\n",
    "#Free Throw Attempts\n",
    "KobeBryant_FTA = [819,768,742,564,541,583,451,626,21,241]\n",
    "JoeJohnson_FTA = [330,314,379,362,269,243,186,161,195,176]\n",
    "LeBronJames_FTA = [814,701,771,762,773,663,502,535,585,528]\n",
    "CarmeloAnthony_FTA = [709,568,590,468,612,605,367,512,541,237]\n",
    "DwightHoward_FTA = [598,666,897,849,816,916,572,721,638,271]\n",
    "ChrisBosh_FTA = [581,590,559,617,590,471,279,302,272,232]\n",
    "ChrisPaul_FTA = [465,357,390,524,190,384,302,323,345,321]\n",
    "KevinDurant_FTA = [256,256,448,524,840,675,501,750,805,171]\n",
    "DerrickRose_FTA = [205,205,205,250,338,555,239,0,32,187]\n",
    "DwayneWade_FTA = [803,535,467,771,702,652,297,425,258,370]\n",
    "\n",
    "# Free Throw Points (FT) by season\n",
    "KobeBryant_FT = [696, 667, 623, 483, 439, 483, 381, 525, 18, 196]\n",
    "JoeJohnson_FT = [261, 235, 316, 299, 220, 195, 158, 132, 159, 141]\n",
    "LeBronJames_FT = [601, 489, 549, 594, 593, 503, 387, 403, 439, 375]\n",
    "CarmeloAnthony_FT = [573, 459, 464, 371, 508, 507, 295, 425, 459, 189]\n",
    "DwightHoward_FT = [356, 390, 529, 504, 483, 546, 281, 355, 349, 143]\n",
    "ChrisBosh_FT = [474, 463, 472, 504, 470, 384, 229, 241, 223, 179]\n",
    "ChrisPaul_FT = [394, 292, 332, 455, 161, 337, 260, 286, 295, 289]\n",
    "KevinDurant_FT = [209, 209, 391, 452, 756, 594, 431, 679, 703, 146]\n",
    "DerrickRose_FT = [146, 146, 146, 197, 259, 476, 194, 0, 27, 152]\n",
    "DwayneWade_FT = [629, 432, 354, 590, 534, 494, 235, 308, 189, 284]\n",
    "\n",
    "# Three-Pointers Made (3P) by season\n",
    "KobeBryant_3P = [180, 155, 180, 135, 139, 101, 90, 92, 18, 37]\n",
    "JoeJohnson_3P = [63, 52, 68, 94, 79, 61, 40, 87, 91, 88]\n",
    "LeBronJames_3P = [63, 81, 111, 145, 129, 92, 54, 116, 116, 120]\n",
    "CarmeloAnthony_3P = [68, 69, 50, 73, 59, 37, 67, 167, 167, 90]\n",
    "DwightHoward_3P = [0, 0, 0, 0, 0, 0, 0, 1, 5, 0]\n",
    "ChrisBosh_3P = [8, 8, 24, 21, 6, 16, 4, 9, 21, 0]\n",
    "ChrisPaul_3P = [10, 17, 63, 40, 45, 61, 44, 61, 52, 30]\n",
    "KevinDurant_3P = [59, 43, 55, 86, 128, 145, 133, 139, 192, 105]\n",
    "DerrickRose_3P = [8, 10, 32, 16, 32, 82, 29, 0, 13, 9]\n",
    "DwayneWade_3P = [49, 36, 8, 88, 73, 88, 59, 42, 32, 19]\n"
   ]
  },
  {
   "cell_type": "markdown",
   "id": "96cf98d1-827e-4f14-9c0c-76b3bb04959e",
   "metadata": {},
   "source": [
    "# Who is the most efficient Free Throw player?"
   ]
  },
  {
   "cell_type": "code",
   "execution_count": null,
   "id": "1db1c237-dc37-4076-a3ec-4b427eabbaa1",
   "metadata": {},
   "outputs": [],
   "source": [
    "lists = np.array([])"
   ]
  }
 ],
 "metadata": {
  "kernelspec": {
   "display_name": "Python 3 (ipykernel)",
   "language": "python",
   "name": "python3"
  },
  "language_info": {
   "codemirror_mode": {
    "name": "ipython",
    "version": 3
   },
   "file_extension": ".py",
   "mimetype": "text/x-python",
   "name": "python",
   "nbconvert_exporter": "python",
   "pygments_lexer": "ipython3",
   "version": "3.12.0"
  }
 },
 "nbformat": 4,
 "nbformat_minor": 5
}
