{
 "cells": [
  {
   "cell_type": "markdown",
   "id": "b8537aa1-a4c2-4450-b679-6bb9ad76c15d",
   "metadata": {},
   "source": [
    "### CC104 Basketball\n",
    "#### Ryann Kim Sesgundo"
   ]
  },
  {
   "cell_type": "markdown",
   "id": "f4e818cb-0b9f-451b-ad51-1f1783c826d4",
   "metadata": {},
   "source": [
    "> First is we need to import the packages required to this program"
   ]
  },
  {
   "cell_type": "code",
   "execution_count": 31,
   "id": "ae3cf3b6-495e-43a5-9067-2bee20bd255f",
   "metadata": {},
   "outputs": [],
   "source": [
    "import numpy as np\n"
   ]
  },
  {
   "cell_type": "markdown",
   "id": "7a65088b-6487-43b2-8a37-b8c1eebf4054",
   "metadata": {},
   "source": [
    "> There are datas required, which is given below, the first one is some sort of their salaries in a form of array"
   ]
  },
  {
   "cell_type": "code",
   "execution_count": 32,
   "id": "a7bd741b-f8fc-4bdc-a067-822f71ed5c83",
   "metadata": {},
   "outputs": [],
   "source": [
    "#Notes and Corrections to the data:\n",
    "#Kevin Durant: 2006 - College Data Used\n",
    "#Kevin Durant: 2005 - Proxied With 2006 Data\n",
    "#Derrick Rose: 2012 - Did Not Play\n",
    "#Derrick Rose: 2007 - College Data Used\n",
    "#Derrick Rose: 2006 - Proxied With 2007 Data\n",
    "#Derrick Rose: 2005 - Proxied With 2007 Data\n",
    "\n",
    "#Salaries\n",
    "KobeBryant_Salary = [15946875, 17718750, 19490625, 21262500, 23034375, 24806250, 25244493, 27849149, 30453805, 23500000]\n",
    "JoeJohnson_Salary = [12000000, 12744189, 13488377, 14232567, 14976754, 16324500, 18038573, 19752645, 21466718, 23180790]\n",
    "LeBronJames_Salary = [4621800, 5828090, 13041250, 14410581, 15779912, 14500000, 16022500, 17545000, 19067500, 20644400]\n",
    "CarmeloAnthony_Salary = [3713640, 4694041, 13041250, 14410581, 15779912, 17149243, 18518574, 19450000, 22407474, 22458000]\n",
    "DwightHoward_Salary = [4493160, 4806720, 6061274, 13758000, 15202590, 16647180, 18091770, 19536360, 20513178, 21436271]\n",
    "ChrisBosh_Salary = [3348000, 4235220, 12455000, 14410581, 15779912, 14500000, 16022500, 17545000, 19067500, 20644400]\n",
    "ChrisPaul_Salary = [3144240, 3380160, 3615960, 4574189, 13520500, 14940153, 16359805, 17779458, 18668431, 20068563]\n",
    "KevinDurant_Salary = [0, 0, 4171200, 4484040, 4796880, 6053663, 15506632, 16669630, 17832627, 18995624]\n",
    "DerrickRose_Salary = [0, 0, 0, 4822800, 5184480, 5546160, 6993708, 16402500, 17632688, 18862875]\n",
    "DwayneWade_Salary = [3031920, 3841443, 13041250, 14410581, 15779912, 14200000, 15691000, 17182000, 18673000, 15000000]\n"
   ]
  },
  {
   "cell_type": "markdown",
   "id": "8ee5b380-accc-4b48-9aa6-41562e799b1a",
   "metadata": {},
   "source": [
    "> Next is we need to create a dictionary so that we may call each data with the help of the keys as their name represents."
   ]
  },
  {
   "cell_type": "code",
   "execution_count": 33,
   "id": "323ac0e8-d76b-4583-a2a9-afb031ae42b4",
   "metadata": {},
   "outputs": [],
   "source": [
    "#Seasons\n",
    "Seasons = [\"2005\",\"2006\",\"2007\",\"2008\",\"2009\",\"2010\",\"2011\",\"2012\",\"2013\",\"2014\"]\n",
    "Sdict = {\n",
    "    \"2005\": 0,\n",
    "    \"2006\": 1,\n",
    "    \"2007\": 2,\n",
    "    \"2008\": 3,\n",
    "    \"2009\": 4,\n",
    "    \"2010\": 5,\n",
    "    \"2011\": 6,\n",
    "    \"2012\": 7,\n",
    "    \"2013\": 8,\n",
    "    \"2014\": 9\n",
    "}\n",
    "\n",
    "Players = {\n",
    "    \"KobeBryant\": 0,\n",
    "    \"JoeJohnson\": 1,\n",
    "    \"LeBronJames\": 2,\n",
    "    \"CarmeloAnthony\": 3,\n",
    "    \"DwightHoward\": 4,\n",
    "    \"ChrisBosh\": 5,\n",
    "    \"ChrisPaul\": 6,\n",
    "    \"KevinDurant\": 7,\n",
    "    \"DerrickRose\": 8,\n",
    "    \"DwayneWade\": 9\n",
    "}\n"
   ]
  },
  {
   "cell_type": "markdown",
   "id": "44a4275f-f4f4-499d-8267-6049adf00de1",
   "metadata": {},
   "source": [
    "> Next is some sort of their data for Field Goals and Field Goals attemps"
   ]
  },
  {
   "cell_type": "code",
   "execution_count": 34,
   "id": "f5790416-63c1-43c9-9ffc-bde3b9fcc522",
   "metadata": {},
   "outputs": [],
   "source": [
    "#Field Goals\n",
    "KobeBryant_FG = [978,813,775,800,716,740,574,738,31,266]\n",
    "JoeJohnson_FG = [632,536,647,620,635,514,423,445,462,446]\n",
    "LeBronJames_FG = [875,772,794,789,768,758,621,765,767,624]\n",
    "CarmeloAnthony_FG = [756,691,728,535,688,684,441,669,743,358]\n",
    "DwightHoward_FG = [468,526,583,560,510,619,416,470,473,251]\n",
    "ChrisBosh_FG = [549,543,507,615,600,524,393,485,492,343]\n",
    "ChrisPaul_FG = [407,381,630,631,314,430,425,412,406,568]\n",
    "KevinDurant_FG = [306,306,587,661,794,711,643,731,849,238]\n",
    "DerrickRose_FG = [208,208,208,574,672,711,302,0,58,338]\n",
    "DwayneWade_FG = [699,472,439,854,719,692,416,569,415,509]\n"
   ]
  },
  {
   "cell_type": "code",
   "execution_count": 35,
   "id": "b805c2f1-55a0-4ec9-9fdb-5c5c06932b58",
   "metadata": {},
   "outputs": [],
   "source": [
    "#Field Goal Attempts\n",
    "KobeBryant_FGA = [2173,1757,1690,1712,1569,1639,1336,1595,73,713]\n",
    "JoeJohnson_FGA = [1395,1139,1497,1420,1386,1161,931,1052,1018,1025]\n",
    "LeBronJames_FGA = [1823,1621,1642,1613,1528,1485,1169,1354,1353,1279]\n",
    "CarmeloAnthony_FGA = [1572,1453,1481,1207,1502,1503,1025,1489,1643,806]\n",
    "DwightHoward_FGA = [881,873,974,979,834,1044,726,813,800,423]\n",
    "ChrisBosh_FGA = [1087,1094,1027,1263,1158,1056,807,907,953,745]\n",
    "ChrisPaul_FGA = [947,871,1291,1255,637,928,890,856,870,1170]\n",
    "KevinDurant_FGA = [647,647,1366,1390,1668,1538,1297,1433,1688,467]\n",
    "DerrickRose_FGA = [436,436,436,1208,1373,1597,695,0,164,835]\n",
    "DwayneWade_FGA = [1413,962,937,1739,1511,1384,837,1093,761,1084]"
   ]
  },
  {
   "cell_type": "markdown",
   "id": "c677396c-efb8-40e5-8178-7871420da074",
   "metadata": {},
   "source": [
    "> Next is the combined salary for each season given above. We use the package numpy and its function array, to make sure that it is array and not a list"
   ]
  },
  {
   "cell_type": "code",
   "execution_count": 43,
   "id": "d0840334-f67a-4993-87cf-7fc4f404f0eb",
   "metadata": {},
   "outputs": [],
   "source": [
    "salary = np.array([KobeBryant_Salary, JoeJohnson_Salary, LeBronJames_Salary, CarmeloAnthony_Salary, DwightHoward_Salary, ChrisBosh_Salary, ChrisPaul_Salary, KevinDurant_Salary, DerrickRose_Salary, DwayneWade_Salary])"
   ]
  },
  {
   "cell_type": "markdown",
   "id": "fb4998c7-7b96-45c8-98fa-f62ccf4dcd8a",
   "metadata": {},
   "source": [
    "> Print salary"
   ]
  },
  {
   "cell_type": "code",
   "execution_count": 40,
   "id": "5173619a-1a4f-4f4a-8ae4-930bd343bc7d",
   "metadata": {},
   "outputs": [
    {
     "data": {
      "text/plain": [
       "array([[15946875, 17718750, 19490625, 21262500, 23034375, 24806250,\n",
       "        25244493, 27849149, 30453805, 23500000],\n",
       "       [12000000, 12744189, 13488377, 14232567, 14976754, 16324500,\n",
       "        18038573, 19752645, 21466718, 23180790],\n",
       "       [ 4621800,  5828090, 13041250, 14410581, 15779912, 14500000,\n",
       "        16022500, 17545000, 19067500, 20644400],\n",
       "       [ 3713640,  4694041, 13041250, 14410581, 15779912, 17149243,\n",
       "        18518574, 19450000, 22407474, 22458000],\n",
       "       [ 4493160,  4806720,  6061274, 13758000, 15202590, 16647180,\n",
       "        18091770, 19536360, 20513178, 21436271],\n",
       "       [ 3348000,  4235220, 12455000, 14410581, 15779912, 14500000,\n",
       "        16022500, 17545000, 19067500, 20644400],\n",
       "       [ 3144240,  3380160,  3615960,  4574189, 13520500, 14940153,\n",
       "        16359805, 17779458, 18668431, 20068563],\n",
       "       [       0,        0,  4171200,  4484040,  4796880,  6053663,\n",
       "        15506632, 16669630, 17832627, 18995624],\n",
       "       [       0,        0,        0,  4822800,  5184480,  5546160,\n",
       "         6993708, 16402500, 17632688, 18862875],\n",
       "       [ 3031920,  3841443, 13041250, 14410581, 15779912, 14200000,\n",
       "        15691000, 17182000, 18673000, 15000000]])"
      ]
     },
     "execution_count": 40,
     "metadata": {},
     "output_type": "execute_result"
    }
   ],
   "source": [
    "salary"
   ]
  },
  {
   "cell_type": "markdown",
   "id": "b19a4a7f-3ac3-4ec6-9673-0766ed83bedc",
   "metadata": {},
   "source": [
    "> Trying to get Kobe Bryant's salary from 2007 Season game"
   ]
  },
  {
   "cell_type": "code",
   "execution_count": 41,
   "id": "dcf4f189-1406-461d-ac3a-11f4f9655ebe",
   "metadata": {},
   "outputs": [
    {
     "data": {
      "text/plain": [
       "4621800"
      ]
     },
     "execution_count": 41,
     "metadata": {},
     "output_type": "execute_result"
    }
   ],
   "source": [
    "salary[Sdict['2007']][Players['KobeBryant']]"
   ]
  }
 ],
 "metadata": {
  "kernelspec": {
   "display_name": "Python 3 (ipykernel)",
   "language": "python",
   "name": "python3"
  },
  "language_info": {
   "codemirror_mode": {
    "name": "ipython",
    "version": 3
   },
   "file_extension": ".py",
   "mimetype": "text/x-python",
   "name": "python",
   "nbconvert_exporter": "python",
   "pygments_lexer": "ipython3",
   "version": "3.12.0"
  }
 },
 "nbformat": 4,
 "nbformat_minor": 5
}
