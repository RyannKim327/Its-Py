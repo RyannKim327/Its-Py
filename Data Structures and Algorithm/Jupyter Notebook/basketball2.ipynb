{
 "cells": [
  {
   "cell_type": "code",
   "execution_count": 1,
   "id": "4571c216-e1f7-4422-b73b-253641253b40",
   "metadata": {},
   "outputs": [],
   "source": [
    "import numpy as np"
   ]
  },
  {
   "cell_type": "code",
   "execution_count": null,
   "id": "fb755c54-2784-4456-b42d-1158bd31775d",
   "metadata": {},
   "outputs": [],
   "source": [
    "data = {\n",
    "    \"KobeBryant: {\n",
    "        \"salary\": [15946875, 17718750, 19490625, 21262500, 23034375, 24806250, 25244493, 27849149, 30453805, 23500000],\n",
    "        \"\"\n",
    "    },\n",
    "    \"JoeJohnson\": {\n",
    "        \"salary\": [12000000, 12744189, 13488377, 14232567, 14976754, 16324500, 18038573, 19752645, 21466718, 23180790],\n",
    "        \n",
    "    },\n",
    "    \"LeBronJames\": {},\n",
    "    \"CarmeloAnthony\": {},\n",
    "    \"DwightHoward\": {},\n",
    "    \"ChrisBosh\": {},\n",
    "    \"ChrisPaul\": {},\n",
    "    \"KevinDurant\": {},\n",
    "    \"DerrickRose\": {},\n",
    "    \"DwayneWade\": {},\n",
    "}"
   ]
  }
 ],
 "metadata": {
  "kernelspec": {
   "display_name": "Python 3 (ipykernel)",
   "language": "python",
   "name": "python3"
  },
  "language_info": {
   "codemirror_mode": {
    "name": "ipython",
    "version": 3
   },
   "file_extension": ".py",
   "mimetype": "text/x-python",
   "name": "python",
   "nbconvert_exporter": "python",
   "pygments_lexer": "ipython3",
   "version": "3.12.0"
  }
 },
 "nbformat": 4,
 "nbformat_minor": 5
}
